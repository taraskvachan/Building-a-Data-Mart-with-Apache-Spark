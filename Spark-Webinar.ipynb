{
 "cells": [
  {
   "cell_type": "code",
   "execution_count": 1,
   "id": "ee47b5e4-7f5d-44e9-b02b-f6df4dd5e04d",
   "metadata": {},
   "outputs": [],
   "source": [
    "import findspark\n",
    "findspark.init('/home/taras/spark-3.5.4-bin-hadoop3')\n",
    "\n",
    "import pyspark.sql.functions as F\n",
    "from pyspark.sql import SparkSession \n",
    "from pyspark.sql.window import Window"
   ]
  },
  {
   "cell_type": "code",
   "execution_count": 2,
   "id": "e5fc90ac-cbad-4c1c-8491-465a61f83c01",
   "metadata": {},
   "outputs": [],
   "source": [
    "jar_files = [\n",
    "    \"spark-3.5.4-bin-hadoop3/jars/postgresql-42.7.5.jar\",\n",
    "    \"spark-3.5.4-bin-hadoop3/jars/clickhouse-jdbc-0.4.6.jar\"\n",
    "]"
   ]
  },
  {
   "cell_type": "code",
   "execution_count": null,
   "id": "42642281-a2d1-49c7-b243-6f9377be987b",
   "metadata": {},
   "outputs": [],
   "source": [
    "spark = (\n",
    "    SparkSession\n",
    "    .builder\n",
    "    .appName(\"Spark-Webinar\")\n",
    "    .config(\"spark.jars\", \",\".join(jar_files))\n",
    "    .getOrCreate()\n",
    ")"
   ]
  },
  {
   "cell_type": "code",
   "execution_count": 4,
   "id": "72d31dc8-ff13-4213-8ce9-f5a08964413c",
   "metadata": {},
   "outputs": [
    {
     "data": {
      "text/html": [
       "\n",
       "            <div>\n",
       "                <p><b>SparkSession - in-memory</b></p>\n",
       "                \n",
       "        <div>\n",
       "            <p><b>SparkContext</b></p>\n",
       "\n",
       "            <p><a href=\"http://172.23.226.189:4040\">Spark UI</a></p>\n",
       "\n",
       "            <dl>\n",
       "              <dt>Version</dt>\n",
       "                <dd><code>v3.5.4</code></dd>\n",
       "              <dt>Master</dt>\n",
       "                <dd><code>local[*]</code></dd>\n",
       "              <dt>AppName</dt>\n",
       "                <dd><code>Spark-Webinar</code></dd>\n",
       "            </dl>\n",
       "        </div>\n",
       "        \n",
       "            </div>\n",
       "        "
      ],
      "text/plain": [
       "<pyspark.sql.session.SparkSession at 0x7f51454c4d10>"
      ]
     },
     "execution_count": 4,
     "metadata": {},
     "output_type": "execute_result"
    }
   ],
   "source": [
    "spark"
   ]
  },
  {
   "cell_type": "markdown",
   "id": "32a19e92-b080-453d-9d86-cd4923f9b19f",
   "metadata": {},
   "source": [
    "## Connecting to data sources"
   ]
  },
  {
   "cell_type": "markdown",
   "id": "cdc35967-b198-44a1-b779-dd8d80adcd98",
   "metadata": {},
   "source": [
    "### CSV"
   ]
  },
  {
   "cell_type": "code",
   "execution_count": null,
   "id": "f1d4cca3-6579-458c-993e-bfe4d3fbcbd6",
   "metadata": {},
   "outputs": [],
   "source": [
    "campaigns_dict = (\n",
    "    spark.read\n",
    "    .option('header', True)\n",
    "    .csv('Data/campaigns_dict.csv')\n",
    ")"
   ]
  },
  {
   "cell_type": "code",
   "execution_count": 6,
   "id": "699649d2-f97a-40df-9608-b393bb500ca5",
   "metadata": {},
   "outputs": [
    {
     "name": "stdout",
     "output_type": "stream",
     "text": [
      "+-----------+------------------------------------------+\n",
      "|campaign_id|campaign_name                             |\n",
      "+-----------+------------------------------------------+\n",
      "|1          |year_modern_kitchen_launch_20250115       |\n",
      "|2          |quarter_custom_kitchens_showcase_20240210 |\n",
      "|3          |month_smart_kitchen_promotion_20240305    |\n",
      "|4          |year_luxury_kitchens_exhibit_20240420     |\n",
      "|5          |quarter_ecofriendly_kitchen_offer_20240512|\n",
      "+-----------+------------------------------------------+\n",
      "only showing top 5 rows\n",
      "\n"
     ]
    }
   ],
   "source": [
    "campaigns_dict.show(5, truncate=False)"
   ]
  },
  {
   "cell_type": "code",
   "execution_count": 7,
   "id": "62c75c53-50fa-40d1-ad16-4ebca4677dca",
   "metadata": {},
   "outputs": [
    {
     "name": "stdout",
     "output_type": "stream",
     "text": [
      "root\n",
      " |-- campaign_id: string (nullable = true)\n",
      " |-- campaign_name: string (nullable = true)\n",
      "\n"
     ]
    }
   ],
   "source": [
    "campaigns_dict.printSchema()"
   ]
  },
  {
   "cell_type": "markdown",
   "id": "117613ec-5dac-4e6a-a0c8-568f24f4cb2f",
   "metadata": {},
   "source": [
    "### Parquet"
   ]
  },
  {
   "cell_type": "code",
   "execution_count": 8,
   "id": "0a1e7d3e-a03f-4083-8c92-054dcfb7bb6d",
   "metadata": {},
   "outputs": [],
   "source": [
    "submits = spark.read.parquet('Data/submits.parquet')"
   ]
  },
  {
   "cell_type": "code",
   "execution_count": 9,
   "id": "3b7fde99-2b1b-4a9f-9df4-05d227041da2",
   "metadata": {},
   "outputs": [
    {
     "name": "stdout",
     "output_type": "stream",
     "text": [
      "+---------+--------+-----------+\n",
      "|submit_id|name    |phone      |\n",
      "+---------+--------+-----------+\n",
      "|7017     |Lawrence|38451903550|\n",
      "|1341     |Steven  |38404238487|\n",
      "|1400     |Chelsea |38526910551|\n",
      "|4605     |Brenda  |38532627985|\n",
      "|3274     |John    |38210569664|\n",
      "+---------+--------+-----------+\n",
      "only showing top 5 rows\n",
      "\n"
     ]
    }
   ],
   "source": [
    "submits.show(5, truncate=False)"
   ]
  },
  {
   "cell_type": "code",
   "execution_count": 10,
   "id": "0f9c2530-366b-4656-85a0-8cdaa47453ec",
   "metadata": {},
   "outputs": [
    {
     "name": "stdout",
     "output_type": "stream",
     "text": [
      "root\n",
      " |-- submit_id: long (nullable = true)\n",
      " |-- name: string (nullable = true)\n",
      " |-- phone: long (nullable = true)\n",
      "\n"
     ]
    }
   ],
   "source": [
    "submits.printSchema()"
   ]
  },
  {
   "cell_type": "code",
   "execution_count": 11,
   "id": "0e074bea-4b4f-4af1-b714-52be7b8f6e5b",
   "metadata": {},
   "outputs": [],
   "source": [
    "deals = spark.read.parquet('Data/deals.parquet')"
   ]
  },
  {
   "cell_type": "code",
   "execution_count": 12,
   "id": "6439bbc3-9334-414d-8b25-f9720d09d47b",
   "metadata": {},
   "outputs": [
    {
     "name": "stdout",
     "output_type": "stream",
     "text": [
      "+-------+----------+---------------+-----------+------------------------+------------------------------------------------------+\n",
      "|deal_id|deal_date |fio            |phone      |email                   |address                                               |\n",
      "+-------+----------+---------------+-----------+------------------------+------------------------------------------------------+\n",
      "|1      |2025-01-15|Jennifer Garcia|38896664832|barnettsarah@example.org|1772 Mike Harbors Apt. 729, Ryanland, FL 52653        |\n",
      "|2      |2024-09-06|Amanda Mills   |38987999315|kimberlydean@example.org|Unit 9167 Box 9119, DPO AA 68389                      |\n",
      "|3      |2024-07-20|Krista Davis   |38784086816|davidchan@example.net   |431 Jennifer Station Suite 110, West John, WA 60345   |\n",
      "|4      |2024-07-30|Barbara Hurst  |38099041526|sandra42@example.net    |3510 Brandy Drive Apt. 313, West Micheleview, VI 21235|\n",
      "|5      |2024-03-21|Thomas Clay    |38856195597|hharris@example.org     |717 William Crest, Port Lawrence, CA 75702            |\n",
      "+-------+----------+---------------+-----------+------------------------+------------------------------------------------------+\n",
      "only showing top 5 rows\n",
      "\n"
     ]
    }
   ],
   "source": [
    "deals.show(5, truncate=False)"
   ]
  },
  {
   "cell_type": "code",
   "execution_count": 13,
   "id": "3b55fe35-25c7-4df9-b7df-c751992588d2",
   "metadata": {},
   "outputs": [
    {
     "name": "stdout",
     "output_type": "stream",
     "text": [
      "-RECORD 0---------------------------------------------------\n",
      " deal_id   | 1                                              \n",
      " deal_date | 2025-01-15                                     \n",
      " fio       | Jennifer Garcia                                \n",
      " phone     | 38896664832                                    \n",
      " email     | barnettsarah@example.org                       \n",
      " address   | 1772 Mike Harbors Apt. 729, Ryanland, FL 52653 \n",
      "-RECORD 1---------------------------------------------------\n",
      " deal_id   | 2                                              \n",
      " deal_date | 2024-09-06                                     \n",
      " fio       | Amanda Mills                                   \n",
      " phone     | 38987999315                                    \n",
      " email     | kimberlydean@example.org                       \n",
      " address   | Unit 9167 Box 9119, DPO AA 68389               \n",
      "only showing top 2 rows\n",
      "\n"
     ]
    }
   ],
   "source": [
    "deals.show(2, truncate=False, vertical=True)"
   ]
  },
  {
   "cell_type": "code",
   "execution_count": 14,
   "id": "ce389bfb-6bc2-4298-a65a-6a1106ea0fb1",
   "metadata": {},
   "outputs": [
    {
     "name": "stdout",
     "output_type": "stream",
     "text": [
      "root\n",
      " |-- deal_id: long (nullable = true)\n",
      " |-- deal_date: string (nullable = true)\n",
      " |-- fio: string (nullable = true)\n",
      " |-- phone: long (nullable = true)\n",
      " |-- email: string (nullable = true)\n",
      " |-- address: string (nullable = true)\n",
      "\n"
     ]
    }
   ],
   "source": [
    "deals.printSchema()"
   ]
  },
  {
   "cell_type": "code",
   "execution_count": 15,
   "id": "1321d914-c714-4f2d-8f36-1d707d0477c8",
   "metadata": {},
   "outputs": [],
   "source": [
    "import pyarrow as pa\n",
    "import pyarrow.parquet as pq"
   ]
  },
  {
   "cell_type": "code",
   "execution_count": 16,
   "id": "fd5d0241-d77e-4fe9-9006-9bb2e9bf1821",
   "metadata": {},
   "outputs": [
    {
     "data": {
      "text/plain": [
       "<pyarrow._parquet.FileMetaData object at 0x7f51454cf060>\n",
       "  created_by: parquet-cpp-arrow version 19.0.0\n",
       "  num_columns: 3\n",
       "  num_rows: 4000\n",
       "  num_row_groups: 1\n",
       "  format_version: 2.6\n",
       "  serialized_size: 2367"
      ]
     },
     "execution_count": 16,
     "metadata": {},
     "output_type": "execute_result"
    }
   ],
   "source": [
    "pq.read_metadata('Data/submits.parquet')"
   ]
  },
  {
   "cell_type": "markdown",
   "id": "11335d21-0b50-4585-ba5d-1ffdb0fdb6f2",
   "metadata": {},
   "source": [
    "### PostgreSQL"
   ]
  },
  {
   "cell_type": "code",
   "execution_count": 17,
   "id": "6c9cf3fc-5d9c-492e-b828-85e04ea02691",
   "metadata": {},
   "outputs": [],
   "source": [
    "pg_host = 'localhost'\n",
    "pg_port = '5432'\n",
    "pg_db = 'postgres'\n",
    "pg_table = 'costs'\n",
    "pg_user = 'postgres'\n",
    "pg_password = 'postgres'"
   ]
  },
  {
   "cell_type": "code",
   "execution_count": 18,
   "id": "fea8b828-8b3e-41f0-9fc1-0c6cda03ed4b",
   "metadata": {},
   "outputs": [],
   "source": [
    "costs = (\n",
    "    spark.read\n",
    "    .format('jdbc')\n",
    "    .option('url', f'jdbc:postgresql://{pg_host}:{pg_port}/{pg_db}')\n",
    "    .option('dbtable', pg_table)\n",
    "    .option('user', pg_user)\n",
    "    .option('password', pg_password)\n",
    "    .option('driver', 'org.postgresql.Driver')\n",
    "    .load()\n",
    ")"
   ]
  },
  {
   "cell_type": "code",
   "execution_count": 19,
   "id": "09b85d56-b7e5-4f89-97a3-7db762745fca",
   "metadata": {},
   "outputs": [
    {
     "name": "stdout",
     "output_type": "stream",
     "text": [
      "+----------+-----------+------+------+-----+\n",
      "|date      |campaign_id|costs |clicks|views|\n",
      "+----------+-----------+------+------+-----+\n",
      "|2024-01-01|1          |670.52|40    |110  |\n",
      "|2024-01-01|2          |602.5 |11    |849  |\n",
      "|2024-01-01|3          |654.74|51    |566  |\n",
      "|2024-01-01|4          |897.24|86    |679  |\n",
      "|2024-01-01|5          |758.19|30    |585  |\n",
      "+----------+-----------+------+------+-----+\n",
      "only showing top 5 rows\n",
      "\n"
     ]
    }
   ],
   "source": [
    "costs.show(5, truncate=False)"
   ]
  },
  {
   "cell_type": "code",
   "execution_count": 20,
   "id": "a4834a9e-0c52-4f64-b0f9-4794cb84fce3",
   "metadata": {},
   "outputs": [
    {
     "name": "stdout",
     "output_type": "stream",
     "text": [
      "root\n",
      " |-- date: string (nullable = true)\n",
      " |-- campaign_id: integer (nullable = true)\n",
      " |-- costs: float (nullable = true)\n",
      " |-- clicks: integer (nullable = true)\n",
      " |-- views: integer (nullable = true)\n",
      "\n"
     ]
    }
   ],
   "source": [
    "costs.printSchema()"
   ]
  },
  {
   "cell_type": "markdown",
   "id": "97a2abad-35b3-4d37-ba1c-2f12432cab62",
   "metadata": {},
   "source": [
    "### ClickHouse"
   ]
  },
  {
   "cell_type": "code",
   "execution_count": 21,
   "id": "e1706b3e-7472-4240-88e0-d81f120a8691",
   "metadata": {},
   "outputs": [],
   "source": [
    "ch_host = 'localhost'\n",
    "ch_port = '8123'\n",
    "ch_db = 'default'\n",
    "ch_table = 'visits'"
   ]
  },
  {
   "cell_type": "code",
   "execution_count": 22,
   "id": "b69734cf-5ac9-4952-8635-b255d68df1e7",
   "metadata": {},
   "outputs": [],
   "source": [
    "visits = (\n",
    "    spark.read\n",
    "    .format('jdbc')\n",
    "    .option('url', f'jdbc:clickhouse://{ch_host}:{ch_port}/{ch_db}')\n",
    "    .option('dbtable', ch_table)\n",
    "    .option('driver', 'com.clickhouse.jdbc.ClickHouseDriver')\n",
    "    .load()\n",
    ")"
   ]
  },
  {
   "cell_type": "code",
   "execution_count": 23,
   "id": "4250a049-2bc6-47de-96c9-70c9c4e5e021",
   "metadata": {},
   "outputs": [
    {
     "name": "stdout",
     "output_type": "stream",
     "text": [
      "+-------+-------------------+--------------------+--------+--------+--------+--------------------+----------------+\n",
      "|visitid|      visitDateTime|                 URL|duration|clientID|  source|         UTMCampaign|          params|\n",
      "+-------+-------------------+--------------------+--------+--------+--------+--------------------+----------------+\n",
      "| 189665|2024-01-01 00:19:38|https://our-cool-...|      78|     848|  direct|quarter_ecofriend...|['submit', 2136]|\n",
      "| 504698|2024-01-01 00:59:20|https://our-cool-...|       8|     527|  direct|year_modern_kitch...|['submit', 4630]|\n",
      "| 632370|2024-01-01 01:49:09|https://our-cool-...|      72|     520| organic|quarter_ecofriend...|['submit', 2734]|\n",
      "| 943112|2024-01-01 02:20:28|https://our-cool-...|      14|     117| organic|month_openconcept...|['submit', 5299]|\n",
      "| 139778|2024-01-01 07:31:30|https://our-cool-...|      73|     655|internal|month_contemporar...| ['submit', 419]|\n",
      "| 954751|2024-01-01 08:15:49|https://our-cool-...|      99|     634|internal|quarter_custom_ki...|['submit', 5480]|\n",
      "| 176581|2024-01-01 08:17:05|https://our-cool-...|      15|     198| organic|month_openconcept...|['submit', 7377]|\n",
      "| 618749|2024-01-01 12:38:28|https://our-cool-...|      67|     888|  direct|year_traditional_...|['submit', 3481]|\n",
      "| 542661|2024-01-01 13:13:31|https://our-cool-...|      31|     865|internal|month_smart_kitch...|['submit', 5914]|\n",
      "| 814116|2024-01-01 13:35:48|https://our-cool-...|      91|     322|  direct|year_luxury_kitch...| ['submit', 767]|\n",
      "| 649478|2024-01-01 15:07:16|https://our-cool-...|      10|     274| organic|month_openconcept...|              []|\n",
      "| 317755|2024-01-01 15:29:06|https://our-cool-...|      57|     736| organic|quarter_spacesavi...|['submit', 7694]|\n",
      "| 898765|2024-01-01 15:49:07|https://our-cool-...|      32|     291|internal|quarter_ecofriend...|['submit', 4164]|\n",
      "| 710453|2024-01-01 16:37:27|https://our-cool-...|      29|     648|      ad|month_custom_kitc...|              []|\n",
      "| 382135|2024-01-01 16:40:52|https://our-cool-...|      82|     596|internal|quarter_ecofriend...|              []|\n",
      "| 216344|2024-01-01 20:30:32|https://our-cool-...|      33|     829| organic|quarter_custom_ki...|['submit', 3445]|\n",
      "| 243104|2024-01-01 20:56:45|https://our-cool-...|      85|     740|  direct|quarter_custom_ki...|['submit', 2794]|\n",
      "| 881715|2024-01-02 00:41:44|https://our-cool-...|      52|     907|  direct|quarter_luxury_ki...|              []|\n",
      "| 826389|2024-01-02 04:20:02|https://our-cool-...|      41|     703|internal|month_openconcept...|['submit', 4599]|\n",
      "| 692894|2024-01-02 04:29:36|https://our-cool-...|      58|     193|internal|month_smart_kitch...| ['submit', 130]|\n",
      "+-------+-------------------+--------------------+--------+--------+--------+--------------------+----------------+\n",
      "only showing top 20 rows\n",
      "\n"
     ]
    }
   ],
   "source": [
    "visits.show()"
   ]
  },
  {
   "cell_type": "code",
   "execution_count": 24,
   "id": "411b5670-ae96-444f-9d75-d2eda2e6ff85",
   "metadata": {},
   "outputs": [
    {
     "name": "stdout",
     "output_type": "stream",
     "text": [
      "-RECORD 0-----------------------------------------------------\n",
      " visitid       | 189665                                       \n",
      " visitDateTime | 2024-01-01 00:19:38                          \n",
      " URL           | https://our-cool-website.com/checkout        \n",
      " duration      | 78                                           \n",
      " clientID      | 848                                          \n",
      " source        | direct                                       \n",
      " UTMCampaign   | quarter_ecofriendly_kitchens_launch_20240205 \n",
      " params        | ['submit', 2136]                             \n",
      "only showing top 1 row\n",
      "\n"
     ]
    }
   ],
   "source": [
    "visits.show(1, truncate=False, vertical=True)"
   ]
  },
  {
   "cell_type": "code",
   "execution_count": 25,
   "id": "367d35a4-c340-4858-bb28-143c085613a3",
   "metadata": {},
   "outputs": [
    {
     "name": "stdout",
     "output_type": "stream",
     "text": [
      "root\n",
      " |-- visitid: integer (nullable = true)\n",
      " |-- visitDateTime: timestamp (nullable = true)\n",
      " |-- URL: string (nullable = true)\n",
      " |-- duration: integer (nullable = true)\n",
      " |-- clientID: integer (nullable = true)\n",
      " |-- source: string (nullable = true)\n",
      " |-- UTMCampaign: string (nullable = true)\n",
      " |-- params: string (nullable = true)\n",
      "\n"
     ]
    }
   ],
   "source": [
    "visits.printSchema()"
   ]
  },
  {
   "cell_type": "markdown",
   "id": "2d1b967d-8f1f-45b7-871e-5d92001ecb4a",
   "metadata": {},
   "source": [
    "## Data preparation"
   ]
  },
  {
   "cell_type": "markdown",
   "id": "c43dabc6-4480-4b4d-af6f-a2661ec329fb",
   "metadata": {},
   "source": [
    "### Visits (ClickHouse)"
   ]
  },
  {
   "cell_type": "code",
   "execution_count": 26,
   "id": "d8e24055-0b3a-41db-831a-b60346d1adb5",
   "metadata": {},
   "outputs": [],
   "source": [
    "filtered_step1 = (\n",
    "    visits\n",
    "    .withColumn('dt', F.date_format(F.col('visitDateTime'), 'yyyy-MM-dd'))\n",
    "    .where(F.col('dt').between('2024-01-01', '2025-01-27'))\n",
    "    .where(F.col('source').isin('ad', 'direct'))\n",
    "    .where(F.col('URL').rlike('.*checkout.*|.*add.*|.*home.*|.*contact.*|.*top50.*|.*customer-service.*|.*wishlist.*|.*sale.*|.*best-sellers.*|.*view.*|.*discount.*|.*featured.*|.*new-arrivals.*|.*settings.*|.*return-policy.*|.*edit.*|.*delete.*|.*reviews.*|.*products.*|.*about.*'))\n",
    "    .select(\n",
    "        'dt',\n",
    "        'visitid',\n",
    "        'clientID',\n",
    "        'URL',\n",
    "        'duration',\n",
    "        'source',\n",
    "        'UTMCampaign',\n",
    "        'params',\n",
    "        F.regexp_replace(F.col('params'), r'\\[|\\]', '').alias('params_regex')\n",
    "    )\n",
    "    .withColumn('params_split', F.split('params_regex', ', '))\n",
    ")"
   ]
  },
  {
   "cell_type": "code",
   "execution_count": 27,
   "id": "f4b64792-39a5-453d-bc69-0df36275b747",
   "metadata": {},
   "outputs": [
    {
     "name": "stdout",
     "output_type": "stream",
     "text": [
      "-RECORD 0----------------------------------------------------\n",
      " dt           | 2024-01-01                                   \n",
      " visitid      | 189665                                       \n",
      " clientID     | 848                                          \n",
      " URL          | https://our-cool-website.com/checkout        \n",
      " duration     | 78                                           \n",
      " source       | direct                                       \n",
      " UTMCampaign  | quarter_ecofriendly_kitchens_launch_20240205 \n",
      " params       | ['submit', 2136]                             \n",
      " params_regex | 'submit', 2136                               \n",
      " params_split | ['submit', 2136]                             \n",
      "only showing top 1 row\n",
      "\n"
     ]
    }
   ],
   "source": [
    "filtered_step1.show(1, truncate=False, vertical=True)"
   ]
  },
  {
   "cell_type": "code",
   "execution_count": 28,
   "id": "71600af3-12e9-4423-8003-ff34e7daf61f",
   "metadata": {},
   "outputs": [
    {
     "name": "stdout",
     "output_type": "stream",
     "text": [
      "root\n",
      " |-- dt: string (nullable = true)\n",
      " |-- visitid: integer (nullable = true)\n",
      " |-- clientID: integer (nullable = true)\n",
      " |-- URL: string (nullable = true)\n",
      " |-- duration: integer (nullable = true)\n",
      " |-- source: string (nullable = true)\n",
      " |-- UTMCampaign: string (nullable = true)\n",
      " |-- params: string (nullable = true)\n",
      " |-- params_regex: string (nullable = true)\n",
      " |-- params_split: array (nullable = true)\n",
      " |    |-- element: string (containsNull = false)\n",
      "\n"
     ]
    }
   ],
   "source": [
    "filtered_step1.printSchema() "
   ]
  },
  {
   "cell_type": "code",
   "execution_count": 29,
   "id": "cfaa4a2d-5504-4318-8253-1180d7d284e5",
   "metadata": {},
   "outputs": [],
   "source": [
    "filtered_step2 = (\n",
    "    filtered_step1\n",
    "    .withColumn('event_type', F.regexp_replace(F.col('params_split')[0], \"'\", ''))\n",
    "    .withColumn('event_id', F.col('params_split')[1].cast('int'))\n",
    ")"
   ]
  },
  {
   "cell_type": "code",
   "execution_count": 30,
   "id": "28f8869f-ea0d-45c9-a5d2-b88956b6c50b",
   "metadata": {},
   "outputs": [
    {
     "name": "stdout",
     "output_type": "stream",
     "text": [
      "-RECORD 0----------------------------------------------------\n",
      " dt           | 2024-01-01                                   \n",
      " visitid      | 189665                                       \n",
      " clientID     | 848                                          \n",
      " URL          | https://our-cool-website.com/checkout        \n",
      " duration     | 78                                           \n",
      " source       | direct                                       \n",
      " UTMCampaign  | quarter_ecofriendly_kitchens_launch_20240205 \n",
      " params       | ['submit', 2136]                             \n",
      " params_regex | 'submit', 2136                               \n",
      " params_split | ['submit', 2136]                             \n",
      " event_type   | submit                                       \n",
      " event_id     | 2136                                         \n",
      "only showing top 1 row\n",
      "\n"
     ]
    }
   ],
   "source": [
    "filtered_step2.show(1, truncate=False, vertical=True)"
   ]
  },
  {
   "cell_type": "code",
   "execution_count": 31,
   "id": "9b8afd98-81e5-44b3-adeb-21f45e307694",
   "metadata": {},
   "outputs": [
    {
     "name": "stdout",
     "output_type": "stream",
     "text": [
      "root\n",
      " |-- dt: string (nullable = true)\n",
      " |-- visitid: integer (nullable = true)\n",
      " |-- clientID: integer (nullable = true)\n",
      " |-- URL: string (nullable = true)\n",
      " |-- duration: integer (nullable = true)\n",
      " |-- source: string (nullable = true)\n",
      " |-- UTMCampaign: string (nullable = true)\n",
      " |-- params: string (nullable = true)\n",
      " |-- params_regex: string (nullable = true)\n",
      " |-- params_split: array (nullable = true)\n",
      " |    |-- element: string (containsNull = false)\n",
      " |-- event_type: string (nullable = true)\n",
      " |-- event_id: integer (nullable = true)\n",
      "\n"
     ]
    }
   ],
   "source": [
    "filtered_step2.printSchema()"
   ]
  },
  {
   "cell_type": "code",
   "execution_count": 32,
   "id": "374f3ac2-569c-4380-8626-80db7d478f0a",
   "metadata": {},
   "outputs": [],
   "source": [
    "visits_df = (\n",
    "    filtered_step2\n",
    "    .where(F.col('event_type') == 'submit')\n",
    "    .select(\n",
    "        'dt',\n",
    "        F.col('visitid').cast('string').alias('visitid'),\n",
    "        F.col('clientID').cast('string').alias('clientid'),\n",
    "        'URL',\n",
    "        'duration',\n",
    "        'source',\n",
    "        'UTMCampaign',\n",
    "        'event_type',\n",
    "        'event_id'\n",
    "    )\n",
    "    .distinct()\n",
    ")"
   ]
  },
  {
   "cell_type": "code",
   "execution_count": 33,
   "id": "14c67225-9904-43dd-b42f-e34f949c44ad",
   "metadata": {},
   "outputs": [
    {
     "name": "stdout",
     "output_type": "stream",
     "text": [
      "-RECORD 0------------------------------------------------\n",
      " dt          | 2024-02-07                                \n",
      " visitid     | 925403                                    \n",
      " clientid    | 418                                       \n",
      " URL         | https://our-cool-website.com/best-sellers \n",
      " duration    | 9                                         \n",
      " source      | direct                                    \n",
      " UTMCampaign | year_luxury_kitchens_event_20250120       \n",
      " event_type  | submit                                    \n",
      " event_id    | 7485                                      \n",
      "only showing top 1 row\n",
      "\n"
     ]
    }
   ],
   "source": [
    "visits_df.show(1, truncate=False, vertical=True)"
   ]
  },
  {
   "cell_type": "code",
   "execution_count": 34,
   "id": "54ea3146-43d6-4423-8aaa-2e63e694b6fa",
   "metadata": {},
   "outputs": [
    {
     "name": "stdout",
     "output_type": "stream",
     "text": [
      "root\n",
      " |-- dt: string (nullable = true)\n",
      " |-- visitid: string (nullable = true)\n",
      " |-- clientid: string (nullable = true)\n",
      " |-- URL: string (nullable = true)\n",
      " |-- duration: integer (nullable = true)\n",
      " |-- source: string (nullable = true)\n",
      " |-- UTMCampaign: string (nullable = true)\n",
      " |-- event_type: string (nullable = true)\n",
      " |-- event_id: integer (nullable = true)\n",
      "\n"
     ]
    }
   ],
   "source": [
    "visits_df.printSchema()"
   ]
  },
  {
   "cell_type": "code",
   "execution_count": 35,
   "id": "526e54e4-7cbf-4c85-b66d-bd6f565930e2",
   "metadata": {},
   "outputs": [
    {
     "data": {
      "text/plain": [
       "2433"
      ]
     },
     "execution_count": 35,
     "metadata": {},
     "output_type": "execute_result"
    }
   ],
   "source": [
    "visits_df.count()"
   ]
  },
  {
   "cell_type": "code",
   "execution_count": 36,
   "id": "ddf16a74-2050-4725-9e18-a46ddfec3adb",
   "metadata": {},
   "outputs": [
    {
     "data": {
      "text/plain": [
       "10000"
      ]
     },
     "execution_count": 36,
     "metadata": {},
     "output_type": "execute_result"
    }
   ],
   "source": [
    "visits.count()"
   ]
  },
  {
   "cell_type": "markdown",
   "id": "04302d0a-7662-4ade-990a-5d27cbcd777b",
   "metadata": {},
   "source": [
    "### Costs (PostgreSQL)"
   ]
  },
  {
   "cell_type": "code",
   "execution_count": 37,
   "id": "790ba5b8-27cb-4f36-9c47-b9546d845538",
   "metadata": {},
   "outputs": [],
   "source": [
    "costs_df = (\n",
    "    costs\n",
    "    .groupBy(\n",
    "        F.col('date').cast('string').alias('date'),\n",
    "        'campaign_id'\n",
    "    )\n",
    "    .agg(\n",
    "        F.sum(F.col('costs')).cast('decimal(19,2)').alias('costs'),\n",
    "        F.sum(F.col('clicks')).alias('clicks'),\n",
    "        F.sum(F.col('views')).alias('views')\n",
    "    )\n",
    ")"
   ]
  },
  {
   "cell_type": "code",
   "execution_count": 38,
   "id": "895b0c40-b2be-4238-aaa8-32b108db247d",
   "metadata": {},
   "outputs": [
    {
     "name": "stdout",
     "output_type": "stream",
     "text": [
      "+----------+-----------+------+------+-----+\n",
      "|      date|campaign_id| costs|clicks|views|\n",
      "+----------+-----------+------+------+-----+\n",
      "|2024-01-05|         75|107.03|    26|  958|\n",
      "|2024-01-05|         97|408.51|    59|  292|\n",
      "|2024-01-06|         44|748.68|    33|  380|\n",
      "|2024-01-06|         58|422.91|    30|  575|\n",
      "|2024-01-11|         91|496.45|     5|  435|\n",
      "+----------+-----------+------+------+-----+\n",
      "only showing top 5 rows\n",
      "\n"
     ]
    }
   ],
   "source": [
    "costs_df.show(5)"
   ]
  },
  {
   "cell_type": "code",
   "execution_count": 39,
   "id": "220a19ec-e746-4a0c-85e2-ef1f1083bc09",
   "metadata": {},
   "outputs": [
    {
     "name": "stdout",
     "output_type": "stream",
     "text": [
      "root\n",
      " |-- date: string (nullable = true)\n",
      " |-- campaign_id: integer (nullable = true)\n",
      " |-- costs: decimal(19,2) (nullable = true)\n",
      " |-- clicks: long (nullable = true)\n",
      " |-- views: long (nullable = true)\n",
      "\n"
     ]
    }
   ],
   "source": [
    "costs_df.printSchema()"
   ]
  },
  {
   "cell_type": "markdown",
   "id": "25d94bb8-421c-4727-87b3-d0971dd56d7c",
   "metadata": {},
   "source": [
    "### Campaigns (CSV)"
   ]
  },
  {
   "cell_type": "code",
   "execution_count": 40,
   "id": "4c062855-ba17-431e-897c-3ef920d9abdb",
   "metadata": {},
   "outputs": [
    {
     "name": "stdout",
     "output_type": "stream",
     "text": [
      "+-----------+-----------------------------------+\n",
      "|campaign_id|campaign_name                      |\n",
      "+-----------+-----------------------------------+\n",
      "|1          |year_modern_kitchen_launch_20250115|\n",
      "+-----------+-----------------------------------+\n",
      "only showing top 1 row\n",
      "\n"
     ]
    }
   ],
   "source": [
    "campaigns_dict.show(1, truncate=False)"
   ]
  },
  {
   "cell_type": "code",
   "execution_count": 41,
   "id": "acfeb529-2721-454a-a5a2-c09624c65dda",
   "metadata": {},
   "outputs": [
    {
     "name": "stdout",
     "output_type": "stream",
     "text": [
      "root\n",
      " |-- campaign_id: string (nullable = true)\n",
      " |-- campaign_name: string (nullable = true)\n",
      "\n"
     ]
    }
   ],
   "source": [
    "campaigns_dict.printSchema()"
   ]
  },
  {
   "cell_type": "code",
   "execution_count": 42,
   "id": "3d00b3db-dfbe-4eee-8fe9-058212574582",
   "metadata": {},
   "outputs": [],
   "source": [
    "campaigns_df = (\n",
    "    campaigns_dict\n",
    "    .withColumn('campaign_id', F.col('campaign_id').cast('integer'))\n",
    "    .withColumn(\n",
    "        'campaign_duration',\n",
    "        F.when(F.col('campaign_name').like('year%'), 'Year')\n",
    "        .when(F.col('campaign_name').like('quarter%'), 'Quarter')\n",
    "        .when(F.col('campaign_name').like('month%'), 'Month')\n",
    "        .otherwise(None)\n",
    "    )\n",
    ")"
   ]
  },
  {
   "cell_type": "code",
   "execution_count": 43,
   "id": "914d8cf6-6aef-47a7-a900-79b712b01c3f",
   "metadata": {},
   "outputs": [
    {
     "name": "stdout",
     "output_type": "stream",
     "text": [
      "+-----------+------------------------------------------+-----------------+\n",
      "|campaign_id|campaign_name                             |campaign_duration|\n",
      "+-----------+------------------------------------------+-----------------+\n",
      "|1          |year_modern_kitchen_launch_20250115       |Year             |\n",
      "|2          |quarter_custom_kitchens_showcase_20240210 |Quarter          |\n",
      "|3          |month_smart_kitchen_promotion_20240305    |Month            |\n",
      "|4          |year_luxury_kitchens_exhibit_20240420     |Year             |\n",
      "|5          |quarter_ecofriendly_kitchen_offer_20240512|Quarter          |\n",
      "+-----------+------------------------------------------+-----------------+\n",
      "only showing top 5 rows\n",
      "\n"
     ]
    }
   ],
   "source": [
    "campaigns_df.show(5, truncate=False)"
   ]
  },
  {
   "cell_type": "code",
   "execution_count": 44,
   "id": "1cadea21-1462-4b6e-9906-7542b9bdf621",
   "metadata": {},
   "outputs": [
    {
     "name": "stdout",
     "output_type": "stream",
     "text": [
      "root\n",
      " |-- campaign_id: integer (nullable = true)\n",
      " |-- campaign_name: string (nullable = true)\n",
      " |-- campaign_duration: string (nullable = true)\n",
      "\n"
     ]
    }
   ],
   "source": [
    "campaigns_df.printSchema()"
   ]
  },
  {
   "cell_type": "markdown",
   "id": "4e8f8098-b410-4b76-aca2-e601b4cf896f",
   "metadata": {},
   "source": [
    "### Submits (Parquet)"
   ]
  },
  {
   "cell_type": "code",
   "execution_count": 45,
   "id": "18dd80b6-e785-4b78-9a0c-df65dc091f9a",
   "metadata": {},
   "outputs": [
    {
     "name": "stdout",
     "output_type": "stream",
     "text": [
      "root\n",
      " |-- submit_id: long (nullable = true)\n",
      " |-- name: string (nullable = true)\n",
      " |-- phone: long (nullable = true)\n",
      "\n"
     ]
    }
   ],
   "source": [
    "submits.printSchema()"
   ]
  },
  {
   "cell_type": "code",
   "execution_count": 46,
   "id": "3ff0a346-d02e-441b-b9e2-292ffc057a27",
   "metadata": {},
   "outputs": [
    {
     "name": "stdout",
     "output_type": "stream",
     "text": [
      "+---------+--------+-----------+\n",
      "|submit_id|    name|      phone|\n",
      "+---------+--------+-----------+\n",
      "|     7017|Lawrence|38451903550|\n",
      "+---------+--------+-----------+\n",
      "only showing top 1 row\n",
      "\n"
     ]
    }
   ],
   "source": [
    "submits.show(1)"
   ]
  },
  {
   "cell_type": "code",
   "execution_count": 47,
   "id": "1d15030c-699e-432f-8eaa-e4e0448c1534",
   "metadata": {},
   "outputs": [],
   "source": [
    "submits_df = (\n",
    "    submits\n",
    "    .withColumn('phone', F.col('phone').cast('string'))\n",
    "    .withColumn('phone_plus', F.concat(F.lit('+'), F.col('phone')))\n",
    "    .withColumn('phone_md5', F.md5('phone'))\n",
    "    .withColumn('phone_plus_md5', F.md5('phone_plus'))\n",
    ")"
   ]
  },
  {
   "cell_type": "code",
   "execution_count": 48,
   "id": "507533e7-359e-47db-a3c6-25058cfbf202",
   "metadata": {},
   "outputs": [
    {
     "name": "stdout",
     "output_type": "stream",
     "text": [
      "+---------+--------+-----------+------------+--------------------------------+--------------------------------+\n",
      "|submit_id|name    |phone      |phone_plus  |phone_md5                       |phone_plus_md5                  |\n",
      "+---------+--------+-----------+------------+--------------------------------+--------------------------------+\n",
      "|7017     |Lawrence|38451903550|+38451903550|c79d44d2541f74f80df091409a623d81|65dc8fa95bcb53b67b08d49d8bd18117|\n",
      "|1341     |Steven  |38404238487|+38404238487|4c6e732c96b6b4cbeac0cfdd0cedce44|83b5290406f00fd6ed1623c13b85b1b6|\n",
      "+---------+--------+-----------+------------+--------------------------------+--------------------------------+\n",
      "only showing top 2 rows\n",
      "\n"
     ]
    }
   ],
   "source": [
    "submits_df.show(2, truncate=False)"
   ]
  },
  {
   "cell_type": "markdown",
   "id": "2920d9da-4c51-44cb-b336-8650ebaae1ce",
   "metadata": {},
   "source": [
    "### Deals (Parquet)"
   ]
  },
  {
   "cell_type": "code",
   "execution_count": 49,
   "id": "6c249f86-9808-4578-b41c-424210d3026d",
   "metadata": {},
   "outputs": [
    {
     "name": "stdout",
     "output_type": "stream",
     "text": [
      "root\n",
      " |-- deal_id: long (nullable = true)\n",
      " |-- deal_date: string (nullable = true)\n",
      " |-- fio: string (nullable = true)\n",
      " |-- phone: long (nullable = true)\n",
      " |-- email: string (nullable = true)\n",
      " |-- address: string (nullable = true)\n",
      "\n"
     ]
    }
   ],
   "source": [
    "deals.printSchema()"
   ]
  },
  {
   "cell_type": "code",
   "execution_count": 50,
   "id": "9490428c-6982-49cb-b69b-40cf83d68bef",
   "metadata": {},
   "outputs": [],
   "source": [
    "deals_df = (\n",
    "    deals\n",
    "    .withColumn('username', F.split(F.col('email'), '@').getItem(0))\n",
    "    .withColumn('domain', F.split(F.col('email'), '@').getItem(1))\n",
    "    .where(F.col('domain').isin('example.com', 'example.org', 'example.net'))\n",
    "    .withColumn('phone', F.col('phone').cast('string'))\n",
    ")"
   ]
  },
  {
   "cell_type": "code",
   "execution_count": 51,
   "id": "a1a89edf-8e6f-4574-8ab4-7dba80051d73",
   "metadata": {},
   "outputs": [
    {
     "name": "stdout",
     "output_type": "stream",
     "text": [
      "+-------+----------+---------------+-----------+--------------------+--------------------+------------+-----------+\n",
      "|deal_id| deal_date|            fio|      phone|               email|             address|    username|     domain|\n",
      "+-------+----------+---------------+-----------+--------------------+--------------------+------------+-----------+\n",
      "|      1|2025-01-15|Jennifer Garcia|38896664832|barnettsarah@exam...|1772 Mike Harbors...|barnettsarah|example.org|\n",
      "+-------+----------+---------------+-----------+--------------------+--------------------+------------+-----------+\n",
      "only showing top 1 row\n",
      "\n"
     ]
    }
   ],
   "source": [
    "deals_df.show(1)"
   ]
  },
  {
   "cell_type": "code",
   "execution_count": 52,
   "id": "870f180c-0400-444b-b50c-d611adb4a9d5",
   "metadata": {},
   "outputs": [
    {
     "name": "stdout",
     "output_type": "stream",
     "text": [
      "root\n",
      " |-- deal_id: long (nullable = true)\n",
      " |-- deal_date: string (nullable = true)\n",
      " |-- fio: string (nullable = true)\n",
      " |-- phone: string (nullable = true)\n",
      " |-- email: string (nullable = true)\n",
      " |-- address: string (nullable = true)\n",
      " |-- username: string (nullable = true)\n",
      " |-- domain: string (nullable = true)\n",
      "\n"
     ]
    }
   ],
   "source": [
    "deals_df.printSchema()"
   ]
  },
  {
   "cell_type": "markdown",
   "id": "20357b31-c07a-4ff7-a556-284fc42644d7",
   "metadata": {},
   "source": [
    "## Creating Data Mart"
   ]
  },
  {
   "cell_type": "markdown",
   "id": "4d4d2ca0-d191-4016-a33b-aedf3ba4c169",
   "metadata": {},
   "source": [
    "### One Big Table (OBT)"
   ]
  },
  {
   "cell_type": "code",
   "execution_count": 53,
   "id": "d27919b2-b991-46c6-8756-c643f17bdd00",
   "metadata": {},
   "outputs": [],
   "source": [
    "customer_detailed = (\n",
    "    visits_df.alias('v')\n",
    "    .join(\n",
    "        submits_df.alias('s'),\n",
    "        F.col('v.event_id') == F.col('s.submit_id'),\n",
    "        'left'\n",
    "    )\n",
    "    .join(\n",
    "        deals_df.alias('d'),\n",
    "        (F.col('s.phone') == F.col('d.phone')) &\n",
    "        (F.col('v.dt') <= F.col('d.deal_date')),\n",
    "        'left'\n",
    "    )\n",
    "    .join(\n",
    "        campaigns_df.alias('camp'),\n",
    "        F.col('v.utmcampaign') == F.col('camp.campaign_name'),\n",
    "        'left'\n",
    "    )\n",
    "    .join(\n",
    "        costs_df.alias('c'),\n",
    "        (F.col('camp.campaign_id') == F.col('c.campaign_id')) &\n",
    "        (F.col('v.dt') == F.col('c.date')),\n",
    "        'left'\n",
    "    )\n",
    "    .select(\n",
    "        'v.dt',\n",
    "        F.col('v.visitid').alias('visit_id'),\n",
    "        F.col('v.clientid').alias('client_id'),\n",
    "        'v.url',\n",
    "        'v.duration',\n",
    "        'v.source',\n",
    "        'v.utmcampaign',\n",
    "        'v.event_type',\n",
    "        'v.event_id',\n",
    "        's.submit_id',\n",
    "        's.name',\n",
    "        's.phone',\n",
    "        's.phone_plus',\n",
    "        's.phone_md5',\n",
    "        's.phone_plus_md5',\n",
    "        'd.deal_id',\n",
    "        'd.deal_date',\n",
    "        'd.fio',\n",
    "        F.col('d.phone').alias('phone_deal'),\n",
    "        'd.email',\n",
    "        'd.address',\n",
    "        'd.username',\n",
    "        'd.domain',\n",
    "        'camp.campaign_name',\n",
    "        'camp.campaign_duration',\n",
    "        'c.costs',\n",
    "        'c.clicks',\n",
    "        'c.views'\n",
    "    )\n",
    ")"
   ]
  },
  {
   "cell_type": "code",
   "execution_count": 54,
   "id": "6f460aa7-f2c0-47bb-ac39-0eaf56a28a6f",
   "metadata": {},
   "outputs": [
    {
     "name": "stdout",
     "output_type": "stream",
     "text": [
      "root\n",
      " |-- dt: string (nullable = true)\n",
      " |-- visit_id: string (nullable = true)\n",
      " |-- client_id: string (nullable = true)\n",
      " |-- url: string (nullable = true)\n",
      " |-- duration: integer (nullable = true)\n",
      " |-- source: string (nullable = true)\n",
      " |-- utmcampaign: string (nullable = true)\n",
      " |-- event_type: string (nullable = true)\n",
      " |-- event_id: integer (nullable = true)\n",
      " |-- submit_id: long (nullable = true)\n",
      " |-- name: string (nullable = true)\n",
      " |-- phone: string (nullable = true)\n",
      " |-- phone_plus: string (nullable = true)\n",
      " |-- phone_md5: string (nullable = true)\n",
      " |-- phone_plus_md5: string (nullable = true)\n",
      " |-- deal_id: long (nullable = true)\n",
      " |-- deal_date: string (nullable = true)\n",
      " |-- fio: string (nullable = true)\n",
      " |-- phone_deal: string (nullable = true)\n",
      " |-- email: string (nullable = true)\n",
      " |-- address: string (nullable = true)\n",
      " |-- username: string (nullable = true)\n",
      " |-- domain: string (nullable = true)\n",
      " |-- campaign_name: string (nullable = true)\n",
      " |-- campaign_duration: string (nullable = true)\n",
      " |-- costs: decimal(19,2) (nullable = true)\n",
      " |-- clicks: long (nullable = true)\n",
      " |-- views: long (nullable = true)\n",
      "\n"
     ]
    }
   ],
   "source": [
    "customer_detailed.printSchema()"
   ]
  },
  {
   "cell_type": "code",
   "execution_count": 55,
   "id": "0e045ac9-08c0-4ed0-95b3-bea929158bab",
   "metadata": {},
   "outputs": [
    {
     "data": {
      "text/plain": [
       "28"
      ]
     },
     "execution_count": 55,
     "metadata": {},
     "output_type": "execute_result"
    }
   ],
   "source": [
    "len(customer_detailed.columns)"
   ]
  },
  {
   "cell_type": "code",
   "execution_count": null,
   "id": "2d5b4bc7-2adc-463f-a86a-09ac8e10eef0",
   "metadata": {},
   "outputs": [],
   "source": [
    "customer_detailed.cache()"
   ]
  },
  {
   "cell_type": "code",
   "execution_count": 57,
   "id": "ad661c4e-067f-41b0-8313-fab49cc48407",
   "metadata": {},
   "outputs": [
    {
     "data": {
      "text/plain": [
       "2660"
      ]
     },
     "execution_count": 57,
     "metadata": {},
     "output_type": "execute_result"
    }
   ],
   "source": [
    "customer_detailed.count()"
   ]
  },
  {
   "cell_type": "code",
   "execution_count": 58,
   "id": "ab542524-dbee-4084-990a-4c70a23130ef",
   "metadata": {},
   "outputs": [],
   "source": [
    "campaigns_agg = (\n",
    "    customer_detailed\n",
    "    .groupBy('campaign_name')\n",
    "    .agg(\n",
    "        F.countDistinct('visit_id').alias('unique_visits'),\n",
    "        F.countDistinct('client_id').alias('unique_clients'),\n",
    "        F.countDistinct('submit_id').alias('unique_submits'),\n",
    "        F.countDistinct('deal_id').alias('unique_deals'),\n",
    "        F.sum('costs').alias('total_costs'),\n",
    "        F.sum('clicks').alias('total_clicks'),\n",
    "        F.sum('views').alias('total_views'),\n",
    "        F.sum('duration').alias('total_duration')\n",
    "    )\n",
    "    .withColumn('avg_deal_cost', (F.col('total_costs') / F.col('unique_deals')).cast('decimal(19,2)'))\n",
    ")"
   ]
  },
  {
   "cell_type": "code",
   "execution_count": 59,
   "id": "cd9f6a0b-1810-4e04-988c-d5f2ee616cb9",
   "metadata": {},
   "outputs": [
    {
     "data": {
      "text/plain": [
       "99"
      ]
     },
     "execution_count": 59,
     "metadata": {},
     "output_type": "execute_result"
    }
   ],
   "source": [
    "campaigns_agg.cache().count()"
   ]
  },
  {
   "cell_type": "code",
   "execution_count": 60,
   "id": "f324383b-d3d6-4652-9cc5-78465b587789",
   "metadata": {},
   "outputs": [
    {
     "name": "stdout",
     "output_type": "stream",
     "text": [
      "-RECORD 0-------------------------------------------------\n",
      " campaign_name  | year_traditional_kitchens_demo_20240725 \n",
      " unique_visits  | 22                                      \n",
      " unique_clients | 21                                      \n",
      " unique_submits | 9                                       \n",
      " unique_deals   | 5                                       \n",
      " total_costs    | 13676.41                                \n",
      " total_clicks   | 1600                                    \n",
      " total_views    | 15987                                   \n",
      " total_duration | 1408                                    \n",
      " avg_deal_cost  | 2735.28                                 \n",
      "only showing top 1 row\n",
      "\n"
     ]
    }
   ],
   "source": [
    "campaigns_agg.show(1, truncate=False, vertical=True)"
   ]
  },
  {
   "cell_type": "code",
   "execution_count": 61,
   "id": "d6f115e2-fa62-481b-a06e-7ce285bbfbb8",
   "metadata": {},
   "outputs": [],
   "source": [
    "dates_agg = (\n",
    "    customer_detailed\n",
    "    .groupBy(F.substring('dt', 1, 7).alias('month'))  # 2025-01-01\n",
    "    .agg(\n",
    "        F.countDistinct('visit_id').alias('unique_visits'),\n",
    "        F.countDistinct('client_id').alias('unique_clients'),\n",
    "        F.countDistinct('submit_id').alias('unique_submits'),\n",
    "        F.countDistinct('deal_id').alias('unique_deals'),\n",
    "        F.sum('costs').alias('total_costs'),\n",
    "        F.sum('clicks').alias('total_clicks'),\n",
    "        F.sum('views').alias('total_views'),\n",
    "        F.sum('duration').alias('total_duration')\n",
    "    )\n",
    "    .withColumn('avg_deal_cost', (F.col('total_costs') / F.col('unique_deals')).cast('decimal(19,2)'))\n",
    ")"
   ]
  },
  {
   "cell_type": "code",
   "execution_count": 62,
   "id": "65dc7a29-acea-4f2a-8685-0e92db154ded",
   "metadata": {},
   "outputs": [
    {
     "data": {
      "text/plain": [
       "13"
      ]
     },
     "execution_count": 62,
     "metadata": {},
     "output_type": "execute_result"
    }
   ],
   "source": [
    "dates_agg.cache().count()"
   ]
  },
  {
   "cell_type": "code",
   "execution_count": 63,
   "id": "8986a460-005f-49c3-a9d2-e7abdfe36e63",
   "metadata": {},
   "outputs": [
    {
     "name": "stdout",
     "output_type": "stream",
     "text": [
      "-RECORD 0-------------------\n",
      " month          | 2024-09   \n",
      " unique_visits  | 191       \n",
      " unique_clients | 168       \n",
      " unique_submits | 60        \n",
      " unique_deals   | 14        \n",
      " total_costs    | 103217.36 \n",
      " total_clicks   | 10075     \n",
      " total_views    | 102169    \n",
      " total_duration | 10118     \n",
      " avg_deal_cost  | 7372.67   \n",
      "only showing top 1 row\n",
      "\n"
     ]
    }
   ],
   "source": [
    "dates_agg.show(1, truncate=False, vertical=True)"
   ]
  },
  {
   "cell_type": "code",
   "execution_count": 64,
   "id": "28577bf2-287e-4a1b-ac3e-47851de3a638",
   "metadata": {},
   "outputs": [],
   "source": [
    "def save_to_postgres(df, table_name):\n",
    "    (\n",
    "        df.write\n",
    "        .format('jdbc')\n",
    "        .option('url', f'jdbc:postgresql://{pg_host}:{pg_port}/{pg_db}')\n",
    "        .option('dbtable', table_name)\n",
    "        .option('user', pg_user)\n",
    "        .option('password', pg_password)\n",
    "        .option('driver', 'org.postgresql.Driver')\n",
    "        .mode(\"overwrite\")\n",
    "        .save()\n",
    "    )"
   ]
  },
  {
   "cell_type": "code",
   "execution_count": 65,
   "id": "99e5a522-ba02-4bf1-8dff-00d73013abea",
   "metadata": {},
   "outputs": [],
   "source": [
    "save_to_postgres(customer_detailed, 'customer_detailed')"
   ]
  },
  {
   "cell_type": "code",
   "execution_count": 66,
   "id": "7bf3391d-2a63-45cc-bea3-dd4add0203bc",
   "metadata": {},
   "outputs": [],
   "source": [
    "save_to_postgres(campaigns_agg, 'campaigns_agg')"
   ]
  },
  {
   "cell_type": "code",
   "execution_count": 67,
   "id": "f9447fae-7634-4040-bd36-3794bcb55259",
   "metadata": {},
   "outputs": [],
   "source": [
    "save_to_postgres(dates_agg, 'dates_agg')"
   ]
  },
  {
   "cell_type": "markdown",
   "id": "fa84d40b-5385-42b9-ac9b-432d9a6ec0dd",
   "metadata": {},
   "source": [
    "## Analyzing results"
   ]
  },
  {
   "cell_type": "code",
   "execution_count": 68,
   "id": "23e387a9-d401-434e-82bb-40b33eb0695d",
   "metadata": {},
   "outputs": [
    {
     "name": "stdout",
     "output_type": "stream",
     "text": [
      "+------------------------------------------------+-----------+------------+\n",
      "|campaign_name                                   |total_costs|unique_deals|\n",
      "+------------------------------------------------+-----------+------------+\n",
      "|quarter_traditional_kitchens_fair_20240518      |7169.02    |0           |\n",
      "|month_smart_kitchens_launch_20240330            |7312.57    |0           |\n",
      "|quarter_ecofriendly_kitchens_initiative_20240828|8306.39    |0           |\n",
      "|year_luxury_kitchens_innovation_20240409        |9818.46    |0           |\n",
      "|year_smart_kitchens_event_20250102              |11455.21   |0           |\n",
      "|month_ecofriendly_kitchens_experience_20241219  |11737.74   |0           |\n",
      "|year_traditional_kitchens_exhibit_20240130      |12038.39   |0           |\n",
      "|year_traditional_kitchens_showcase_20241018     |12105.87   |0           |\n",
      "|year_openconcept_kitchens_demo_20240430         |12147.50   |0           |\n",
      "|month_smart_kitchens_exhibit_20240625           |12430.19   |0           |\n",
      "|quarter_modern_kitchens_innovation_20240812     |12686.52   |0           |\n",
      "|year_modern_kitchen_initiative_20250111         |12938.15   |0           |\n",
      "|quarter_spacesaving_kitchen_experience_20240521 |13146.61   |0           |\n",
      "|year_luxury_kitchens_show_20241001              |14882.64   |0           |\n",
      "|year_kitchen_design_initiative_20241030         |16014.35   |0           |\n",
      "|month_contemporary_kitchens_collection_20240914 |18847.15   |0           |\n",
      "+------------------------------------------------+-----------+------------+\n",
      "\n"
     ]
    }
   ],
   "source": [
    "# 1. Campaigns without revenue\n",
    "(\n",
    "    campaigns_agg\n",
    "    .where('unique_deals = 0')\n",
    "    .select('campaign_name', 'total_costs', 'unique_deals')\n",
    "    .sort('total_costs')\n",
    "    .show(truncate=False)\n",
    ")"
   ]
  },
  {
   "cell_type": "code",
   "execution_count": 69,
   "id": "26e69f11-71b7-4689-94a6-21753c2ee440",
   "metadata": {},
   "outputs": [
    {
     "name": "stdout",
     "output_type": "stream",
     "text": [
      "+--------------------+----------------+\n",
      "|count(campaign_name)|sum(total_costs)|\n",
      "+--------------------+----------------+\n",
      "|                  16|       193036.76|\n",
      "+--------------------+----------------+\n",
      "\n"
     ]
    }
   ],
   "source": [
    "(\n",
    "    campaigns_agg\n",
    "    .where('unique_deals = 0')\n",
    "    .select(F.count('campaign_name'), F.sum('total_costs'))\n",
    "    .show()\n",
    ")"
   ]
  },
  {
   "cell_type": "code",
   "execution_count": 70,
   "id": "b965bcc1-76b7-4998-9ea0-6565a5b8874d",
   "metadata": {},
   "outputs": [
    {
     "name": "stdout",
     "output_type": "stream",
     "text": [
      "+-----------------------------------------------+-----------+------------+-------------+\n",
      "|campaign_name                                  |total_costs|unique_deals|avg_deal_cost|\n",
      "+-----------------------------------------------+-----------+------------+-------------+\n",
      "|quarter_ecofriendly_kitchen_experience_20241111|16544.41   |10          |1654.44      |\n",
      "|month_contemporary_kitchens_event_20240920     |10680.46   |6           |1780.08      |\n",
      "|quarter_ecofriendly_kitchen_offer_20240512     |9024.24    |5           |1804.85      |\n",
      "|month_custom_kitchens_experience_20240901      |7263.46    |4           |1815.87      |\n",
      "|month_smart_kitchens_event_20240614            |11026.88   |6           |1837.81      |\n",
      "|quarter_custom_kitchens_showcase_20240210      |8284.88    |4           |2071.22      |\n",
      "|quarter_ecofriendly_kitchens_showcase_20240823 |10576.01   |5           |2115.20      |\n",
      "|month_ecofriendly_kitchens_launch_20240325     |15366.61   |7           |2195.23      |\n",
      "|year_modern_kitchen_experience_20240702        |9502.63    |4           |2375.66      |\n",
      "|year_traditional_kitchens_fair_20240415        |16941.77   |7           |2420.25      |\n",
      "|year_luxury_kitchens_fair_20240716             |12281.97   |5           |2456.39      |\n",
      "|month_smart_kitchen_initiative_20240311        |17481.89   |7           |2497.41      |\n",
      "|year_luxury_kitchens_exhibit_20240420          |16037.84   |6           |2672.97      |\n",
      "|year_traditional_kitchens_demo_20240725        |13676.41   |5           |2735.28      |\n",
      "|year_smart_kitchens_initiative_20241004        |14833.20   |5           |2966.64      |\n",
      "|quarter_custom_kitchens_experience_20240222    |15013.09   |5           |3002.62      |\n",
      "|month_smart_kitchen_innovation_20241202        |9142.99    |3           |3047.66      |\n",
      "|quarter_ecofriendly_kitchen_experience_20241119|15344.86   |5           |3068.97      |\n",
      "|month_openconcept_kitchens_initiative_20240328 |15400.90   |5           |3080.18      |\n",
      "|quarter_spacesaving_kitchens_demo_20240509     |15542.96   |5           |3108.59      |\n",
      "+-----------------------------------------------+-----------+------------+-------------+\n",
      "only showing top 20 rows\n",
      "\n"
     ]
    }
   ],
   "source": [
    "# 2. Average deal cost\n",
    "(\n",
    "    campaigns_agg\n",
    "    .where('unique_deals > 0')\n",
    "    .select('campaign_name', 'total_costs', 'unique_deals', 'avg_deal_cost')\n",
    "    .sort('avg_deal_cost')\n",
    "    .show(truncate=False)\n",
    ")"
   ]
  },
  {
   "cell_type": "code",
   "execution_count": 71,
   "id": "8d07d82e-f128-44d6-89b7-76f1b2d3f7c9",
   "metadata": {},
   "outputs": [
    {
     "name": "stdout",
     "output_type": "stream",
     "text": [
      "+-----------------------------------------------+-----------+------------+-------------+\n",
      "|campaign_name                                  |total_costs|unique_deals|avg_deal_cost|\n",
      "+-----------------------------------------------+-----------+------------+-------------+\n",
      "|month_openconcept_kitchens_event_20241210      |16605.72   |1           |16605.72     |\n",
      "|month_custom_kitchens_show_20241205            |14352.87   |1           |14352.87     |\n",
      "|month_contemporary_kitchens_initiative_20240928|14157.05   |1           |14157.05     |\n",
      "|quarter_spacesaving_kitchens_showcase_20240809 |14108.72   |1           |14108.72     |\n",
      "|year_luxury_kitchens_initiative_20241029       |13537.64   |1           |13537.64     |\n",
      "|year_modern_kitchen_innovation_20250107        |13419.85   |1           |13419.85     |\n",
      "|quarter_custom_kitchens_experience_20240527    |13162.80   |1           |13162.80     |\n",
      "|quarter_custom_kitchen_showcase_20240503       |12783.37   |1           |12783.37     |\n",
      "|month_contemporary_kitchens_promotion_20241215 |12580.28   |1           |12580.28     |\n",
      "|year_modern_kitchens_showcase_20241014         |12572.51   |1           |12572.51     |\n",
      "|month_openconcept_kitchen_exhibit_20240327     |22062.64   |2           |11031.32     |\n",
      "|quarter_spacesaving_kitchen_innovation_20241103|10391.33   |1           |10391.33     |\n",
      "|month_contemporary_kitchens_event_20241208     |9558.64    |1           |9558.64      |\n",
      "|month_smart_kitchens_experience_20241221       |8356.30    |1           |8356.30      |\n",
      "|quarter_custom_kitchen_exhibit_20241125        |16429.49   |2           |8214.75      |\n",
      "|year_luxury_kitchens_initiative_20240422       |16158.73   |2           |8079.37      |\n",
      "|month_smart_kitchen_show_20240318              |15414.97   |2           |7707.49      |\n",
      "|quarter_custom_kitchen_show_20240213           |14614.36   |2           |7307.18      |\n",
      "|month_spacesaving_kitchens_exhibit_20240621    |13690.44   |2           |6845.22      |\n",
      "|year_traditional_kitchens_experience_20240715  |13484.40   |2           |6742.20      |\n",
      "+-----------------------------------------------+-----------+------------+-------------+\n",
      "only showing top 20 rows\n",
      "\n"
     ]
    }
   ],
   "source": [
    "(\n",
    "    campaigns_agg\n",
    "    .where('unique_deals > 0')\n",
    "    .select('campaign_name', 'total_costs', 'unique_deals', 'avg_deal_cost')\n",
    "    .sort('avg_deal_cost', ascending=False)\n",
    "    .show(truncate=False)\n",
    ")"
   ]
  },
  {
   "cell_type": "code",
   "execution_count": 72,
   "id": "1aaf5f7c-3513-4eaa-8fc3-08275c49abe2",
   "metadata": {},
   "outputs": [
    {
     "name": "stdout",
     "output_type": "stream",
     "text": [
      "+-----------------------------------------------+-----------+------------+-------------+-------+---------+\n",
      "|campaign_name                                  |total_costs|unique_deals|avg_deal_cost|revenue|profit   |\n",
      "+-----------------------------------------------+-----------+------------+-------------+-------+---------+\n",
      "|month_contemporary_kitchens_collection_20240914|18847.15   |0           |NULL         |0      |-18847.15|\n",
      "|year_kitchen_design_initiative_20241030        |16014.35   |0           |NULL         |0      |-16014.35|\n",
      "|year_luxury_kitchens_show_20241001             |14882.64   |0           |NULL         |0      |-14882.64|\n",
      "|quarter_spacesaving_kitchen_experience_20240521|13146.61   |0           |NULL         |0      |-13146.61|\n",
      "|year_modern_kitchen_initiative_20250111        |12938.15   |0           |NULL         |0      |-12938.15|\n",
      "|quarter_modern_kitchens_innovation_20240812    |12686.52   |0           |NULL         |0      |-12686.52|\n",
      "|month_smart_kitchens_exhibit_20240625          |12430.19   |0           |NULL         |0      |-12430.19|\n",
      "|year_openconcept_kitchens_demo_20240430        |12147.50   |0           |NULL         |0      |-12147.50|\n",
      "|year_traditional_kitchens_showcase_20241018    |12105.87   |0           |NULL         |0      |-12105.87|\n",
      "|month_openconcept_kitchen_exhibit_20240327     |22062.64   |2           |11031.32     |10000  |-12062.64|\n",
      "|year_traditional_kitchens_exhibit_20240130     |12038.39   |0           |NULL         |0      |-12038.39|\n",
      "|month_ecofriendly_kitchens_experience_20241219 |11737.74   |0           |NULL         |0      |-11737.74|\n",
      "|month_openconcept_kitchens_event_20241210      |16605.72   |1           |16605.72     |5000   |-11605.72|\n",
      "|year_smart_kitchens_event_20250102             |11455.21   |0           |NULL         |0      |-11455.21|\n",
      "|year_luxury_kitchens_innovation_20240409       |9818.46    |0           |NULL         |0      |-9818.46 |\n",
      "|month_custom_kitchens_show_20241205            |14352.87   |1           |14352.87     |5000   |-9352.87 |\n",
      "|month_contemporary_kitchens_initiative_20240928|14157.05   |1           |14157.05     |5000   |-9157.05 |\n",
      "|quarter_spacesaving_kitchens_showcase_20240809 |14108.72   |1           |14108.72     |5000   |-9108.72 |\n",
      "|year_luxury_kitchens_initiative_20241029       |13537.64   |1           |13537.64     |5000   |-8537.64 |\n",
      "|year_modern_kitchen_innovation_20250107        |13419.85   |1           |13419.85     |5000   |-8419.85 |\n",
      "+-----------------------------------------------+-----------+------------+-------------+-------+---------+\n",
      "only showing top 20 rows\n",
      "\n"
     ]
    }
   ],
   "source": [
    "# 3. Unprofitable campaigns (each deal costs 5 000)\n",
    "(\n",
    "    campaigns_agg\n",
    "    .select('campaign_name', 'total_costs', 'unique_deals', 'avg_deal_cost')\n",
    "    .withColumn('revenue', F.col('unique_deals') * F.lit(5000))\n",
    "    .withColumn('profit', F.col('revenue') - F.col('total_costs'))\n",
    "    .sort('profit')\n",
    "    .show(truncate=False)\n",
    ")"
   ]
  },
  {
   "cell_type": "code",
   "execution_count": 73,
   "id": "a53c8fcb-64d0-4bad-88fc-ac4d8639ab86",
   "metadata": {},
   "outputs": [
    {
     "name": "stdout",
     "output_type": "stream",
     "text": [
      "+-----------------------------------------------+-----------+------------+-------------+-------+--------+\n",
      "|campaign_name                                  |total_costs|unique_deals|avg_deal_cost|revenue|profit  |\n",
      "+-----------------------------------------------+-----------+------------+-------------+-------+--------+\n",
      "|quarter_ecofriendly_kitchen_experience_20241111|16544.41   |10          |1654.44      |50000  |33455.59|\n",
      "|month_ecofriendly_kitchens_launch_20240325     |15366.61   |7           |2195.23      |35000  |19633.39|\n",
      "|month_contemporary_kitchens_event_20240920     |10680.46   |6           |1780.08      |30000  |19319.54|\n",
      "|month_smart_kitchens_event_20240614            |11026.88   |6           |1837.81      |30000  |18973.12|\n",
      "|year_traditional_kitchens_fair_20240415        |16941.77   |7           |2420.25      |35000  |18058.23|\n",
      "|month_smart_kitchen_initiative_20240311        |17481.89   |7           |2497.41      |35000  |17518.11|\n",
      "|quarter_ecofriendly_kitchen_offer_20240512     |9024.24    |5           |1804.85      |25000  |15975.76|\n",
      "|quarter_ecofriendly_kitchens_showcase_20240823 |10576.01   |5           |2115.20      |25000  |14423.99|\n",
      "|year_luxury_kitchens_exhibit_20240420          |16037.84   |6           |2672.97      |30000  |13962.16|\n",
      "|month_custom_kitchens_experience_20240901      |7263.46    |4           |1815.87      |20000  |12736.54|\n",
      "|year_luxury_kitchens_fair_20240716             |12281.97   |5           |2456.39      |25000  |12718.03|\n",
      "|quarter_custom_kitchens_showcase_20240210      |8284.88    |4           |2071.22      |20000  |11715.12|\n",
      "|year_traditional_kitchens_demo_20240725        |13676.41   |5           |2735.28      |25000  |11323.59|\n",
      "|year_modern_kitchen_experience_20240702        |9502.63    |4           |2375.66      |20000  |10497.37|\n",
      "|year_smart_kitchens_initiative_20241004        |14833.20   |5           |2966.64      |25000  |10166.80|\n",
      "|quarter_custom_kitchens_experience_20240222    |15013.09   |5           |3002.62      |25000  |9986.91 |\n",
      "|quarter_ecofriendly_kitchen_experience_20241119|15344.86   |5           |3068.97      |25000  |9655.14 |\n",
      "|month_openconcept_kitchens_initiative_20240328 |15400.90   |5           |3080.18      |25000  |9599.10 |\n",
      "|quarter_spacesaving_kitchens_demo_20240509     |15542.96   |5           |3108.59      |25000  |9457.04 |\n",
      "|month_smart_kitchens_showcase_20240918         |15779.81   |5           |3155.96      |25000  |9220.19 |\n",
      "+-----------------------------------------------+-----------+------------+-------------+-------+--------+\n",
      "only showing top 20 rows\n",
      "\n"
     ]
    }
   ],
   "source": [
    "# 4. The most profitable adv campaigns\n",
    "(\n",
    "    campaigns_agg\n",
    "    .select('campaign_name', 'total_costs', 'unique_deals', 'avg_deal_cost')\n",
    "    .withColumn('revenue', F.col('unique_deals') * F.lit(5000))\n",
    "    .withColumn('profit', F.col('revenue') - F.col('total_costs'))\n",
    "    .sort(F.desc('profit'))\n",
    "    .show(truncate=False)\n",
    ")"
   ]
  },
  {
   "cell_type": "code",
   "execution_count": 74,
   "id": "fb601dd3-d982-445d-bfb6-a08bef1cc384",
   "metadata": {},
   "outputs": [
    {
     "name": "stdout",
     "output_type": "stream",
     "text": [
      "+-------+-------------+--------------+--------------+------------+-----------+------------+-------------+-------+---------+\n",
      "|  month|unique_visits|unique_clients|unique_submits|unique_deals|total_costs|total_clicks|avg_deal_cost|revenue|   profit|\n",
      "+-------+-------------+--------------+--------------+------------+-----------+------------+-------------+-------+---------+\n",
      "|2024-01|          204|           185|            62|          30|  111035.45|       10949|      3701.18| 150000| 38964.55|\n",
      "|2024-02|          184|           164|            63|          39|  103068.78|        9261|      2642.79| 195000| 91931.22|\n",
      "|2024-03|          182|           164|            60|          37|  101531.34|       10054|      2744.09| 185000| 83468.66|\n",
      "|2024-04|          187|           166|            53|          28|  101512.77|        9829|      3625.46| 140000| 38487.23|\n",
      "|2024-05|          188|           174|            65|          26|   94367.89|       10027|      3629.53| 130000| 35632.11|\n",
      "|2024-06|          213|           185|            78|          32|  119175.06|       11723|      3724.22| 160000| 40824.94|\n",
      "|2024-07|          227|           201|            85|          26|  128196.13|       11638|      4930.62| 130000|  1803.87|\n",
      "|2024-08|          185|           168|            65|          18|  103276.20|       10840|      5737.57|  90000|-13276.20|\n",
      "|2024-09|          191|           168|            60|          14|  103217.36|       10075|      7372.67|  70000|-33217.36|\n",
      "|2024-10|          166|           154|            51|           8|   91667.60|        9017|     11458.45|  40000|-51667.60|\n",
      "|2024-11|          169|           153|            52|           5|   95734.36|        9201|     19146.87|  25000|-70734.36|\n",
      "|2024-12|          194|           173|            59|           2|  100892.98|       10588|     50446.49|  10000|-90892.98|\n",
      "|2025-01|          143|           131|            48|           0|   71605.37|        7251|         NULL|      0|-71605.37|\n",
      "+-------+-------------+--------------+--------------+------------+-----------+------------+-------------+-------+---------+\n",
      "\n"
     ]
    }
   ],
   "source": [
    "# 5. Metrics by month\n",
    "(\n",
    "    dates_agg\n",
    "    .withColumn('revenue', F.col('unique_deals') * F.lit(5000))\n",
    "    .withColumn('profit', F.col('revenue') - F.col('total_costs'))\n",
    "    .drop('total_duration', 'total_views')\n",
    "    .sort('month')\n",
    "    .show()\n",
    ")"
   ]
  },
  {
   "cell_type": "code",
   "execution_count": 75,
   "id": "262ae672-bc3f-4ccd-839d-45aa2cb3ae44",
   "metadata": {},
   "outputs": [
    {
     "name": "stdout",
     "output_type": "stream",
     "text": [
      "+----------------+\n",
      "|sum(total_costs)|\n",
      "+----------------+\n",
      "|      1325281.29|\n",
      "+----------------+\n",
      "\n"
     ]
    }
   ],
   "source": [
    "# 6. How much money was spent on adv in total for the year?\n",
    "dates_agg.select(F.sum('total_costs')).show()"
   ]
  },
  {
   "cell_type": "code",
   "execution_count": 76,
   "id": "522776ac-87e0-49a6-86f6-994727656c6b",
   "metadata": {},
   "outputs": [
    {
     "data": {
      "text/plain": [
       "DataFrame[month: string, unique_visits: bigint, unique_clients: bigint, unique_submits: bigint, unique_deals: bigint, total_costs: decimal(29,2), total_clicks: bigint, total_views: bigint, total_duration: bigint, avg_deal_cost: decimal(19,2)]"
      ]
     },
     "execution_count": 76,
     "metadata": {},
     "output_type": "execute_result"
    }
   ],
   "source": [
    "customer_detailed.unpersist()\n",
    "campaigns_agg.unpersist()\n",
    "dates_agg.unpersist()"
   ]
  },
  {
   "cell_type": "code",
   "execution_count": 77,
   "id": "36c62b41-8d8c-45d5-ae7c-194f22e1fa18",
   "metadata": {},
   "outputs": [],
   "source": [
    "spark.stop()"
   ]
  }
 ],
 "metadata": {
  "kernelspec": {
   "display_name": "Python 3 (ipykernel)",
   "language": "python",
   "name": "python3"
  },
  "language_info": {
   "codemirror_mode": {
    "name": "ipython",
    "version": 3
   },
   "file_extension": ".py",
   "mimetype": "text/x-python",
   "name": "python",
   "nbconvert_exporter": "python",
   "pygments_lexer": "ipython3",
   "version": "3.12.3"
  }
 },
 "nbformat": 4,
 "nbformat_minor": 5
}
